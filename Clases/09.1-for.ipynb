{
 "cells": [
  {
   "cell_type": "markdown",
   "metadata": {},
   "source": [
    "# Ciclo for"
   ]
  },
  {
   "cell_type": "markdown",
   "metadata": {},
   "source": [
    "El ciclo `for` es la otra forma de hacer iteraciones que ofrece python. En esta clase vamos a ver cómo se usa y las ventajas y desventajas con respecto a los ciclos `while`."
   ]
  },
  {
   "cell_type": "markdown",
   "metadata": {},
   "source": [
    "## Secuencias de valores\n",
    "\n",
    "Antes de entrar a ver el ciclo `for` vamos a definir el concepto de secuencia de valores para python. \n",
    "\n",
    "Algunos tipos de datos permiten crear secuencias de valores. El primer tipo de dato que permite esto es el `str`. Hemos ya presentado el `str` como una secuencia de caracteres, o sea, distintos caracteres en un orden bien definido. \n",
    "\n",
    "Esta será la primera secuencia de valores que vamos a analizar en el `for`\n",
    "\n",
    "\n",
    "## for como un iterador de secuencias\n",
    "\n",
    "El `for` me permite recorrer una `secuencia de valores`. Veamos la sintaxis simplificada del `for`:\n",
    "\n",
    "```\n",
    "for VARIABLE in SECUENCIA:\n",
    "    BLOQUE_DE_CÓDIGO\n",
    "```\n",
    "Donde:\n",
    "* `VARIABLE:` es el nombre de la variable que va a tener cada uno de los valores de la `SECUENCIA`.\n",
    "* `SECUENCIA:`es la secuencia de valores, por ejemplo: una cadena `str`.\n",
    "* `BLOQUE_DE_CÓDIGO`: conjuntos de instrucciones, donde voy a poder usar la `VARIABLE`.\n",
    "\n",
    "Veamos un ejemplo:"
   ]
  },
  {
   "cell_type": "code",
   "execution_count": 16,
   "metadata": {},
   "outputs": [
    {
     "name": "stdout",
     "output_type": "stream",
     "text": [
      "h  o  l  a  "
     ]
    }
   ],
   "source": [
    "palabra = 'hola'         # Secuencia de valores: 'h', 'o', 'l' y 'a'\n",
    "for letra in palabra:        # letra es la variable que tomará los valores de la secuencia\n",
    "    print(letra,' ',end='')     # Instrucción que se ejecutará con cada uno de los valores de letra"
   ]
  },
  {
   "cell_type": "markdown",
   "metadata": {},
   "source": [
    "En el ejemplo se puede ver cómo cada letra de la palabra es mostrado por el print. Veamos otro ejemplo de cómo resolver un problema con el `for`.\n",
    "\n",
    "`Pedir al usuario que ingrese una frase, y sólo imprimir las letras que no sean vocales minúsculas`\n",
    "\n",
    "Veamos cómo podríamos resolverlo con el ´for´."
   ]
  },
  {
   "cell_type": "code",
   "execution_count": 17,
   "metadata": {},
   "outputs": [
    {
     "name": "stdout",
     "output_type": "stream",
     "text": [
      "Ingresó: Ser o no ser, esa es la cuestión\n",
      "Resultado: Sr  n sr, s s l cstn"
     ]
    }
   ],
   "source": [
    "VOCALES = 'aeiouAEIOUáéíóúÁÉÍÓÚ'      ## Define una constante con las vocales\n",
    "\n",
    "ingreso = input('Ingrese una frase: ')  ## Ingreso del usuario\n",
    "print('Ingresó:', ingreso )\n",
    "print('Resultado: ',end='')         # El end='' es para evitar el salto de línea\n",
    "for letra in ingreso:   \n",
    "    if letra not in VOCALES:            ## El operador not in me dice si el valor de letra\n",
    "                                    # está dentro de la secuencia de caracteres de VOCALES\n",
    "        print(letra,end='')"
   ]
  },
  {
   "cell_type": "markdown",
   "metadata": {},
   "source": [
    "Este mismo código con un `while` sería de la siguiente manera:"
   ]
  },
  {
   "cell_type": "code",
   "execution_count": 7,
   "metadata": {},
   "outputs": [
    {
     "name": "stdout",
     "output_type": "stream",
     "text": [
      "Ingresó: Sero no ser, esa es la cuestión\n",
      "Resultado: Sr n sr, s s l cstn"
     ]
    }
   ],
   "source": [
    "VOCALES = 'aeiouAEIOUáéíóúÁÉÍÓÚ'      ## Define una constante con las vocales\n",
    "\n",
    "ingreso = input('Ingrese una frase: ')  ## Ingreso del usuario\n",
    "print('Ingresó:', ingreso )\n",
    "print('Resultado: ',end='')         # El end='' es para evitar el salto de línea\n",
    "i = 0\n",
    "while i<len(ingreso):               # La variable i toma valores desde 0 hasta la longitud \n",
    "                                    # de la frase, recorriendo por medio del [i] cada letra\n",
    "    if ingreso[i] not in VOCALES:   ## El operador not in me dice si el valor del contenido en cada posición de la secuencia\n",
    "                                    # está dentro de la secuencia de caracteres de VOCALES\n",
    "        print( ingreso[i] ,end='')\n",
    "    i += 1"
   ]
  },
  {
   "cell_type": "markdown",
   "metadata": {},
   "source": [
    "En el código se realizan las siguientes tareas, que fueron requeridas en el código con el `while`:\n",
    "* inicializar el valor de `i en 0, por ser la primera posición de toda secuencia`\n",
    "* usar el `i<len(ingreso)` para definir la condición de finalización del while\n",
    "* no olvidar de incrementar `i` con cada ejecución del ciclo, con el `i += 1`"
   ]
  },
  {
   "cell_type": "markdown",
   "metadata": {},
   "source": [
    "En este ejemplo se dejan claras las ventajas del `for` y el `while` para recorrer una secuencia de valores.\n",
    "\n",
    "```python\n",
    "for letra in ingreso:   \n",
    "    if letra not in VOCALES:            \n",
    "        print(letra,end='')\n",
    "```\n",
    "versus\n",
    "```python\n",
    "i = 0\n",
    "while i<len(ingreso):   \n",
    "    if ingreso[i] not in VOCALES:   \n",
    "        print( ingreso[i] ,end='')\n",
    "    i += 1\n",
    "```"
   ]
  },
  {
   "cell_type": "markdown",
   "metadata": {},
   "source": [
    "## Generando secuencias con el range()"
   ]
  },
  {
   "cell_type": "markdown",
   "metadata": {},
   "source": [
    "El `range` es un tipo de dato de Python que permite generar una secuencia de números enteros. \n",
    "\n",
    "La sintaxis del range es la siguiente:\n",
    "\n",
    "`range(inicio, final, salto)`\n",
    "\n",
    "Donde:\n",
    "* `inicio:` es el primer número de la secuencia que genera el `range()`. \n",
    "* `final:` es el número al que una vez que el `range()` llegue, cortará la secuencia. No se incluye este número en la secuencia.\n",
    "* `salto:` Cantidad en la que se irán incrementando los números de la secuencia. Puede ser positivo o negativo. \n",
    "\n",
    "Ya que el range genera una secuencia como resultado, se puede usar con el `for` para recorrer dicha secuencia. Veamos un ejemplo del `for` trabajando en conjunto con el range."
   ]
  },
  {
   "cell_type": "code",
   "execution_count": 8,
   "metadata": {},
   "outputs": [
    {
     "name": "stdout",
     "output_type": "stream",
     "text": [
      "5\n",
      "6\n",
      "7\n",
      "8\n",
      "9\n",
      "10\n"
     ]
    }
   ],
   "source": [
    "for i in range(5,11,1): # valor inicial de la secuencia inicio=5, valor final de la secuencia =11, como salta de la posición inical a la final salto=1\n",
    "    print(i)"
   ]
  },
  {
   "cell_type": "markdown",
   "metadata": {},
   "source": [
    "En el caso anterior, python arranca la secuencia en el valor `inicial` (5) y le va incrementando la cantidad definida en `salto` (1), hasta llegar a igualar el valor `final` (11)."
   ]
  },
  {
   "cell_type": "markdown",
   "metadata": {},
   "source": [
    "<div class=\"alert alert-block alert-warning\">\n",
    "<b>IMPORTANTE:</b> El valor que iguala al valor final <b>NO</b> es incluido dentro de los valores que toma la variable.\n",
    "</div>"
   ]
  },
  {
   "cell_type": "code",
   "execution_count": 18,
   "metadata": {},
   "outputs": [
    {
     "name": "stdout",
     "output_type": "stream",
     "text": [
      "20\n",
      "18\n",
      "16\n",
      "14\n",
      "12\n",
      "10\n",
      "8\n",
      "6\n",
      "4\n",
      "2\n",
      "0\n"
     ]
    }
   ],
   "source": [
    "for i in range(20,-1,-2):     # inicio=20, final=-1, salto=-2\n",
    "    print(i)"
   ]
  },
  {
   "cell_type": "markdown",
   "metadata": {},
   "source": [
    "En este último ejemplo, es una secuencia decreciente, porque el `salto` tiene un **valor negativo** (-2). Notar además que los saltos son de **dos unidades**, no una, como en el primer caso. \n",
    "Prueben con otros valores y verifiquen que la secuencia sea la esperada. "
   ]
  },
  {
   "cell_type": "markdown",
   "metadata": {},
   "source": [
    "### Range() y sus valores por defecto\n",
    "\n",
    "Más allá de que el range() tiene tres argumentos, puede usarse también con uno o dos argumentos solamente. Veamos las posibles opciones de uso.\n",
    "\n",
    "`range(inicio, final, salto)` Tres argumentos. Todos los valores explicitamente definidos.\n",
    "\n",
    "`range(inicio, final)` Dos argumentos. `salto` es 1 por defecto\n",
    "\n",
    "`range(final)` Un argumento. `inicio` es 0 por defecto, `salto` es 1 por defecto.\n",
    "\n",
    "Veamos algunos ejemplos:"
   ]
  },
  {
   "cell_type": "code",
   "execution_count": 19,
   "metadata": {},
   "outputs": [
    {
     "name": "stdout",
     "output_type": "stream",
     "text": [
      "abcdefghijklmnopqrstuvwxyz"
     ]
    }
   ],
   "source": [
    "a = 'abcdefghijklmnopqrstuvwxyz'\n",
    "for i in range(len(a)):     # Un argumento. Es la forma más común de usar el range\n",
    "                            # inicio=0 por defecto\n",
    "                            # salto=1 por defecto\n",
    "    print(a[i],end='')"
   ]
  },
  {
   "cell_type": "code",
   "execution_count": 20,
   "metadata": {},
   "outputs": [
    {
     "name": "stdout",
     "output_type": "stream",
     "text": [
      "ijklmnopqrstuvwxyz"
     ]
    }
   ],
   "source": [
    "a = 'abcdefghijklmnopqrstuvwxyz'\n",
    "for i in range(8,len(a)):     # Dos argumentos. Salto=1 por defecto.\n",
    "    print(a[i],end='')"
   ]
  },
  {
   "cell_type": "markdown",
   "metadata": {},
   "source": [
    "### Cuándo usar el for y cuándo no\n",
    "\n",
    "Más allá de que los ciclos `for` son una gran herramienta dentro de Python, no siempre son **la mejor** herramienta para hacer el trabajo. \n",
    "\n",
    "Cada vez que necesite recorrer una secuencia por medio de su posición, y especialmente si no puedo predecir que posiciones voy a necesitar, entonces seguramente el `while` será probablemente una mejor opción.\n",
    "\n",
    "A continuación se muestra cómo recorrer al revés una cadena."
   ]
  },
  {
   "cell_type": "code",
   "execution_count": 41,
   "metadata": {},
   "outputs": [
    {
     "name": "stdout",
     "output_type": "stream",
     "text": [
      "Usando un for : zyxwvutsrqponmlkjihgfedcba\n",
      "Usando índices: zyxwvutsrqponmlkjihgfedcba\n"
     ]
    }
   ],
   "source": [
    "a = 'abcdefghijklmnopqrstuvwxyz'\n",
    "\n",
    "print('Usando un for : ',end='')\n",
    "for i in range(len(a)-1,-1,-1):     # Recorriendo el str al revés con un for\n",
    "                                    #\n",
    "    print(a[i],end='')\n",
    "\n",
    "print()\n",
    "print( 'Usando índices:', a[::-1] ) # Recorriendo el str al revés con los subíndices"
   ]
  },
  {
   "cell_type": "markdown",
   "metadata": {},
   "source": [
    "En el ejemplo anterior vemos cómo python nos permite hacer la misma tarea de distintas formas y cómo algunas son más simples que otras. En los exámenes solemos ver a los alumnos utilizar formas largas para resolver un problema que, usando la sentencia adecuada, simplificaría la solución.\n",
    "\n",
    "Veamos otro ejemplo donde el `for` no es tan útil:\n",
    "\n",
    "`CONSIGNA: desarrollar un programa para decodificar un mensaje encriptado. El algoritmo debe leer la primera letra. Si es vocal, avanzar al siguiente caracter; si es no es vocal, avanzar, dejar un caracter sin leer y avanzar al siguiente. Leer el caracter donde quedó parado y aplicar la misma lógica hasta que se llegue al final de la cadena. Imprimir los caracteres leidos.`"
   ]
  },
  {
   "cell_type": "markdown",
   "metadata": {},
   "source": [
    "<svg xmlns=\"http://www.w3.org/2000/svg\" xmlns:xlink=\"http://www.w3.org/1999/xlink\" version=\"1.1\" width=\"871px\" viewBox=\"-0.5 -0.5 871 182\" style=\"max-width:100%;max-height:182px;\"><defs/><g><rect x=\"60\" y=\"0\" width=\"760\" height=\"180\" fill=\"rgb(255, 255, 255)\" stroke=\"rgb(0, 0, 0)\" pointer-events=\"all\"/><rect x=\"0\" y=\"90\" width=\"870\" height=\"30\" fill=\"none\" stroke=\"none\" pointer-events=\"all\"/><g transform=\"translate(-0.5 -0.5)\"><switch><foreignObject pointer-events=\"none\" width=\"100%\" height=\"100%\" requiredFeatures=\"http://www.w3.org/TR/SVG11/feature#Extensibility\" style=\"overflow: visible; text-align: left;\"><div xmlns=\"http://www.w3.org/1999/xhtml\" style=\"display: flex; align-items: unsafe center; justify-content: unsafe center; width: 868px; height: 1px; padding-top: 105px; margin-left: 1px;\"><div data-drawio-colors=\"color: rgb(0, 0, 0); \" style=\"box-sizing: border-box; font-size: 0px; text-align: center;\"><div style=\"display: inline-block; font-size: 46px; font-family: &quot;Courier New&quot;; color: rgb(0, 0, 0); line-height: 1.2; pointer-events: all; white-space: normal; overflow-wrap: normal;\">hxolxa xcxomxo xtxe xvxa?x</div></div></div></foreignObject><text x=\"435\" y=\"119\" fill=\"rgb(0, 0, 0)\" font-family=\"Courier New\" font-size=\"46px\" text-anchor=\"middle\">hxolxa xcxomxo xtxe xvxa?x</text></switch></g><path d=\"M 91 75 Q 101 25 116 25 Q 131 25 139.75 68.76\" fill=\"none\" stroke=\"rgb(0, 0, 0)\" stroke-miterlimit=\"10\" pointer-events=\"stroke\"/><path d=\"M 140.78 73.9 L 135.98 67.73 L 139.75 68.76 L 142.84 66.35 Z\" fill=\"rgb(0, 0, 0)\" stroke=\"rgb(0, 0, 0)\" stroke-miterlimit=\"10\" pointer-events=\"all\"/><path d=\"M 174 79 Q 184 29 199 29 Q 214 29 222.75 72.76\" fill=\"none\" stroke=\"rgb(0, 0, 0)\" stroke-miterlimit=\"10\" pointer-events=\"stroke\"/><path d=\"M 223.78 77.9 L 218.98 71.73 L 222.75 72.76 L 225.84 70.35 Z\" fill=\"rgb(0, 0, 0)\" stroke=\"rgb(0, 0, 0)\" stroke-miterlimit=\"10\" pointer-events=\"all\"/><path d=\"M 253 82 Q 263 32 278 32 Q 293 32 301.75 75.76\" fill=\"none\" stroke=\"rgb(0, 0, 0)\" stroke-miterlimit=\"10\" pointer-events=\"stroke\"/><path d=\"M 302.78 80.9 L 297.98 74.73 L 301.75 75.76 L 304.84 73.35 Z\" fill=\"rgb(0, 0, 0)\" stroke=\"rgb(0, 0, 0)\" stroke-miterlimit=\"10\" pointer-events=\"all\"/><path d=\"M 314 82 Q 324 32 339 32 Q 354 32 362.75 75.76\" fill=\"none\" stroke=\"rgb(0, 0, 0)\" stroke-miterlimit=\"10\" pointer-events=\"stroke\"/><path d=\"M 363.78 80.9 L 358.98 74.73 L 362.75 75.76 L 365.84 73.35 Z\" fill=\"rgb(0, 0, 0)\" stroke=\"rgb(0, 0, 0)\" stroke-miterlimit=\"10\" pointer-events=\"all\"/><path d=\"M 395 82 Q 405 32 420 32 Q 435 32 443.75 75.76\" fill=\"none\" stroke=\"rgb(0, 0, 0)\" stroke-miterlimit=\"10\" pointer-events=\"stroke\"/><path d=\"M 444.78 80.9 L 439.98 74.73 L 443.75 75.76 L 446.84 73.35 Z\" fill=\"rgb(0, 0, 0)\" stroke=\"rgb(0, 0, 0)\" stroke-miterlimit=\"10\" pointer-events=\"all\"/><path d=\"M 475 82 Q 485 32 500 32 Q 515 32 523.75 75.76\" fill=\"none\" stroke=\"rgb(0, 0, 0)\" stroke-miterlimit=\"10\" pointer-events=\"stroke\"/><path d=\"M 524.78 80.9 L 519.98 74.73 L 523.75 75.76 L 526.84 73.35 Z\" fill=\"rgb(0, 0, 0)\" stroke=\"rgb(0, 0, 0)\" stroke-miterlimit=\"10\" pointer-events=\"all\"/><path d=\"M 530 81 Q 540 31 555 31 Q 570 31 578.75 74.76\" fill=\"none\" stroke=\"rgb(0, 0, 0)\" stroke-miterlimit=\"10\" pointer-events=\"stroke\"/><path d=\"M 579.78 79.9 L 574.98 73.73 L 578.75 74.76 L 581.84 72.35 Z\" fill=\"rgb(0, 0, 0)\" stroke=\"rgb(0, 0, 0)\" stroke-miterlimit=\"10\" pointer-events=\"all\"/><path d=\"M 613 80 Q 623 30 638 30 Q 653 30 661.75 73.76\" fill=\"none\" stroke=\"rgb(0, 0, 0)\" stroke-miterlimit=\"10\" pointer-events=\"stroke\"/><path d=\"M 662.78 78.9 L 657.98 72.73 L 661.75 73.76 L 664.84 71.35 Z\" fill=\"rgb(0, 0, 0)\" stroke=\"rgb(0, 0, 0)\" stroke-miterlimit=\"10\" pointer-events=\"all\"/><path d=\"M 677 80 Q 687 30 702 30 Q 717 30 725.75 73.76\" fill=\"none\" stroke=\"rgb(0, 0, 0)\" stroke-miterlimit=\"10\" pointer-events=\"stroke\"/><path d=\"M 726.78 78.9 L 721.98 72.73 L 725.75 73.76 L 728.84 71.35 Z\" fill=\"rgb(0, 0, 0)\" stroke=\"rgb(0, 0, 0)\" stroke-miterlimit=\"10\" pointer-events=\"all\"/><path d=\"M 747 80 Q 757 30 772 30 Q 787 30 795.75 73.76\" fill=\"none\" stroke=\"rgb(0, 0, 0)\" stroke-miterlimit=\"10\" pointer-events=\"stroke\"/><path d=\"M 796.78 78.9 L 791.98 72.73 L 795.75 73.76 L 798.84 71.35 Z\" fill=\"rgb(0, 0, 0)\" stroke=\"rgb(0, 0, 0)\" stroke-miterlimit=\"10\" pointer-events=\"all\"/><path d=\"M 587 125 Q 587 155 597 155 Q 607 155 607 131.37\" fill=\"none\" stroke=\"rgb(0, 0, 0)\" stroke-miterlimit=\"10\" pointer-events=\"stroke\"/><path d=\"M 607 126.12 L 610.5 133.12 L 607 131.37 L 603.5 133.12 Z\" fill=\"rgb(0, 0, 0)\" stroke=\"rgb(0, 0, 0)\" stroke-miterlimit=\"10\" pointer-events=\"all\"/><path d=\"M 728 125 Q 728 155 738 155 Q 748 155 748 131.37\" fill=\"none\" stroke=\"rgb(0, 0, 0)\" stroke-miterlimit=\"10\" pointer-events=\"stroke\"/><path d=\"M 748 126.12 L 751.5 133.12 L 748 131.37 L 744.5 133.12 Z\" fill=\"rgb(0, 0, 0)\" stroke=\"rgb(0, 0, 0)\" stroke-miterlimit=\"10\" pointer-events=\"all\"/><path d=\"M 448 125 Q 448 155 458 155 Q 468 155 468 131.37\" fill=\"none\" stroke=\"rgb(0, 0, 0)\" stroke-miterlimit=\"10\" pointer-events=\"stroke\"/><path d=\"M 468 126.12 L 471.5 133.12 L 468 131.37 L 464.5 133.12 Z\" fill=\"rgb(0, 0, 0)\" stroke=\"rgb(0, 0, 0)\" stroke-miterlimit=\"10\" pointer-events=\"all\"/><path d=\"M 367 125 Q 367 155 377 155 Q 387 155 387 131.37\" fill=\"none\" stroke=\"rgb(0, 0, 0)\" stroke-miterlimit=\"10\" pointer-events=\"stroke\"/><path d=\"M 387 126.12 L 390.5 133.12 L 387 131.37 L 383.5 133.12 Z\" fill=\"rgb(0, 0, 0)\" stroke=\"rgb(0, 0, 0)\" stroke-miterlimit=\"10\" pointer-events=\"all\"/><path d=\"M 227 125 Q 227 155 237 155 Q 247 155 247 131.37\" fill=\"none\" stroke=\"rgb(0, 0, 0)\" stroke-miterlimit=\"10\" pointer-events=\"stroke\"/><path d=\"M 247 126.12 L 250.5 133.12 L 247 131.37 L 243.5 133.12 Z\" fill=\"rgb(0, 0, 0)\" stroke=\"rgb(0, 0, 0)\" stroke-miterlimit=\"10\" pointer-events=\"all\"/><path d=\"M 145 125 Q 145 155 155 155 Q 165 155 165 131.37\" fill=\"none\" stroke=\"rgb(0, 0, 0)\" stroke-miterlimit=\"10\" pointer-events=\"stroke\"/><path d=\"M 165 126.12 L 168.5 133.12 L 165 131.37 L 161.5 133.12 Z\" fill=\"rgb(0, 0, 0)\" stroke=\"rgb(0, 0, 0)\" stroke-miterlimit=\"10\" pointer-events=\"all\"/></g><switch><g requiredFeatures=\"http://www.w3.org/TR/SVG11/feature#Extensibility\"/><a transform=\"translate(0,-5)\" xlink:href=\"https://www.diagrams.net/doc/faq/svg-export-text-problems\" target=\"_blank\"><text text-anchor=\"middle\" font-size=\"10px\" x=\"50%\" y=\"100%\">Text is not SVG - cannot display</text></a></switch></svg>"
   ]
  },
  {
   "cell_type": "markdown",
   "metadata": {},
   "source": [
    "Veamos cómo resolver el problema con un `for`:"
   ]
  },
  {
   "cell_type": "code",
   "execution_count": 42,
   "metadata": {},
   "outputs": [
    {
     "name": "stdout",
     "output_type": "stream",
     "text": [
      "hola cómo te va?"
     ]
    }
   ],
   "source": [
    "VOCALES = 'aeiouAEIOUáéíóúÁÉÍÓÚ'  \n",
    "\n",
    "codigo = 'hxolxa xcxómxo xtxe xvxa?x'\n",
    "ignorar_siguiente = False ## El primer caracter se lee siempre\n",
    "for c in codigo:\n",
    "    if not ignorar_siguiente: ## Veo si tengo que ignorar este\n",
    "        ignorar_siguiente = True\n",
    "        if c in VOCALES:\n",
    "            ignorar_siguiente = False\n",
    "        print(c,end='')\n",
    "    else:\n",
    "        ignorar_siguiente = False\n",
    "\n",
    "\n"
   ]
  },
  {
   "cell_type": "markdown",
   "metadata": {},
   "source": [
    "Ahora lo mismo con un `while`."
   ]
  },
  {
   "cell_type": "code",
   "execution_count": 43,
   "metadata": {},
   "outputs": [
    {
     "name": "stdout",
     "output_type": "stream",
     "text": [
      "hola cómo te va?"
     ]
    }
   ],
   "source": [
    "VOCALES = 'aeiouAEIOUáéíóúÁÉÍÓÚ'  \n",
    "\n",
    "codigo = 'hxolxa xcxómxo xtxe xvxa?x'\n",
    "i=0\n",
    "while i<len(codigo):\n",
    "    print(codigo[i],end='')\n",
    "\n",
    "    if( codigo[i] in VOCALES ):\n",
    "        i += 1                  # si es vocal, avanzo uno\n",
    "    else:\n",
    "        i += 2                  # si no es vocal, avanzo dos\n"
   ]
  },
  {
   "cell_type": "markdown",
   "metadata": {},
   "source": [
    "Como se puede ver con el `while`, la lógica es más simple y fácil de interpretar. \n",
    "\n",
    "Otra de las cosas que permite el `while` y no el `for` es cambiar los valores del índice. Veamos este otro ejemplo implementando con `range()` y subíndices un algoritmo similar al que hicimos con el `while`."
   ]
  },
  {
   "cell_type": "code",
   "execution_count": 45,
   "metadata": {},
   "outputs": [
    {
     "name": "stdout",
     "output_type": "stream",
     "text": [
      "hxolxa xcxomxo xtxe xvxa?x"
     ]
    }
   ],
   "source": [
    "VOCALES = 'aeiouAEIOUáéíóúÁÉÍÓÚ'  \n",
    "\n",
    "codigo = 'hxolxa xcxómxo xtxe xvxa?x'\n",
    "i=0\n",
    "for i in range(len(codigo)):\n",
    "    print(codigo[i],end='')\n",
    "\n",
    "    if( codigo[i] not in VOCALES ):\n",
    "        i += 1                # NO HACE LO QUE ESPERAMOS\n",
    "                              # Mas allá de que cambiamos el valor de i\n",
    "                              # el for ignora el cambio. Y le asigna \n",
    "                              # el siguiente valor en la secuencia\n",
    "\n"
   ]
  },
  {
   "cell_type": "code",
   "execution_count": 37,
   "metadata": {},
   "outputs": [
    {
     "name": "stdout",
     "output_type": "stream",
     "text": [
      "0\n",
      "10\n",
      "1\n",
      "11\n",
      "2\n",
      "12\n",
      "3\n",
      "13\n",
      "4\n",
      "14\n"
     ]
    }
   ],
   "source": [
    "## Código para ver como se comporta i\n",
    "for i in range(5):\n",
    "    print(i)\n",
    "    i += 10     ## Los cambios en i no influjen en el comportamiento del for,\n",
    "                ## el cual sólo le presta atención a los resultados del range.\n",
    "    print(i)"
   ]
  },
  {
   "cell_type": "markdown",
   "metadata": {},
   "source": [
    "<div class=\"alert alert-block alert-danger\">\n",
    "<b>IMPORTANTE:</b> A fin de evitar errores, siempre consideren la variable del <b>for</b> de sólo lectura, o sea, nunca le asignen un valor, ya que ese valor va a ser ignorado y reescrito antes de comenzar la siguiente ejecución del bloque de código.\n",
    "\n",
    "<b>IMPORTANTE II:</b> El <b>range()</b> genera su secuencia de número con base en los argumentos leídos en el momento de ejecución, de modo que no hay nada que se pueda hacer dentro del bloque de código para cambiar eso. \n",
    "</div>"
   ]
  },
  {
   "cell_type": "markdown",
   "metadata": {},
   "source": []
  }
 ],
 "metadata": {
  "kernelspec": {
   "display_name": "Python 3.8.2 64-bit",
   "language": "python",
   "name": "python3"
  },
  "language_info": {
   "codemirror_mode": {
    "name": "ipython",
    "version": 3
   },
   "file_extension": ".py",
   "mimetype": "text/x-python",
   "name": "python",
   "nbconvert_exporter": "python",
   "pygments_lexer": "ipython3",
   "version": "3.8.2"
  },
  "orig_nbformat": 4,
  "vscode": {
   "interpreter": {
    "hash": "5edc29c2ed010d6458d71a83433b383a96a8cbd3efe8531bc90c4b8a5b8bcec9"
   }
  }
 },
 "nbformat": 4,
 "nbformat_minor": 2
}
