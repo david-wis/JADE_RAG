{
  "cells": [
    {
      "cell_type": "markdown",
      "metadata": {
        "id": "Ip-zpG7LtH0X"
      },
      "source": [
        "# Funciones y módulos"
      ]
    },
    {
      "cell_type": "markdown",
      "metadata": {
        "id": "lG8NkpQ9tH0b"
      },
      "source": [
        "En clases pasadas ya se vió cómo usar algunas funciones que vienen incluidas en Python, así como hacer uso de funciones que vienen en módulos, tales como `math` y `random`.\n",
        "\n",
        "En esta clase vamos a ver cómo crear funciones propias del programador y aprender los conceptos de reusabilidad y modularización del código."
      ]
    },
    {
      "cell_type": "markdown",
      "metadata": {
        "id": "qGJEtdv7tH0c"
      },
      "source": [
        "## Definición de funciones\n",
        "\n",
        "Las funciones, así como las variables, deben existir antes de poder ser usadas.  Por ejemplo: La función round ya existe y por tanto la puedo usar.\n",
        "\n",
        "Toda función debe tener un nombre, en nuestro caso: `round`. Después del nombre de la función deben ir paréntsis y entre paréntesis el valor o valores que se necesita para que `round` haga la tarea para la que fue creada: `round(3.3)`.\n",
        "Posteriormente la función `round` devuelve la respuesta de la tarea hecha, para que pueda ser usada por el programa u otra función.\n",
        "\n",
        "```python\n",
        "\n",
        "a = round( 3.3 )\n",
        "\n",
        "```\n",
        "\n",
        "El literal `3.3` es el valor que recibe como `parámetro` la función `round` y su resultado, es decir, su valor de retorno, en este caso `3`, es asignado a la variable `a`.\n",
        "\n",
        "Al definir funciones creadas por el programador, se debe tener claro qué tarea realizarán y así poder definir los datos que necesitan (parámetros) y cómo van a realizar la tarea solicitada y qué datos deben devolver como respuesta a la tarea realizada.\n",
        "\n",
        "### Sintaxis\n",
        "\n",
        "A continuación se describe la sintaxis para la definición de una función:\n",
        "\n",
        "```\n",
        "def NOMBRE_FUNC ( PARAM1, PARAM2, ... ):\n",
        "    BLOQUE_DE_CÓDIGO\n",
        "\n",
        "    return VALOR_DE_RETORNO\n",
        "```\n",
        "\n",
        "Donde:\n",
        "* `NOMBRE_FUNC:` Es el nombre de la función. Se rige por las mismas reglas de la definición de nombres para las variables.\n",
        "* `PARAM* :` Son los nombres de las variables que van a contener los valores usados para realizar la tarea para la cual fue creada la función, los valores de los parámetros serán definidos al momento de invocarla.\n",
        "* `BLOQUE_DE_CODIGO: ` Instrucciones que al ejecutarse realizan la tarea para la cual fue creada la función. Cada vez que se invoca la función realiza la misma tarea. El bloque de código debe estar indentado a la derecha de `def`.\n",
        "* `VALOR_DE_RETORNO: ` Valor que se obtuvo como respuesta después de la ejecución del bloque de código y va a retornar.\n",
        "\n"
      ]
    },
    {
      "cell_type": "markdown",
      "metadata": {
        "id": "GWo2GxW8TI3y"
      },
      "source": [
        "Ejemplo"
      ]
    },
    {
      "cell_type": "code",
      "execution_count": null,
      "metadata": {
        "id": "GeksHeYYtH0d"
      },
      "outputs": [],
      "source": [
        "def add(x,y):           ## Se define la función (se hace una única vez)\n",
        "                        ## La definición incluye el nombre de la función y\n",
        "                        ## de los parámetros\n",
        "\n",
        "    suma = x+y          ## Código que ejecuta la función\n",
        "    return suma         ## Valor de retorno\n",
        "\n",
        "## CÓDIGO PRINCIPAL\n",
        "c = add( 1 , 3 )        ## Invocar a la función,\n",
        "                        # el primer parámetro es 1 que se le asigna a x,\n",
        "                        # el segundo parámetro es 3 que se le asigna a y.\n",
        "                        # El valor de retorno se vuelve por la instrucción return\n",
        "                        # y el valor de retorno es impreso por el print\n",
        "print(\"El resultado de la suma de 1 y 3 es\",c)"
      ]
    },
    {
      "cell_type": "markdown",
      "metadata": {
        "id": "Tm-vQUUTtH0f"
      },
      "source": [
        "Definición de la función `add`:\n",
        "\n",
        "```python\n",
        "def add(x,y):           ## Definición de la función (lo hago una única vez)\n",
        "    suma = x+y          ## Código que ejecuta\n",
        "    return suma         ## devuelve el valor de suma calculado\n",
        "```\n",
        "\n",
        "Invocación de la función:\n",
        "\n",
        "```python\n",
        "c = add( 1 , 3 )\n",
        "```\n",
        "\n",
        "La invocación de una función es el proceso de llamar a la función para que realice la tarea para la cual fue creada. Durante la invocación, asignamos valores a los parámetros de la función, y con estos valores, se ejecuta el bloque de código de la función.\n",
        "\n",
        "La ejecución del bloque de código continúa hasta que se encuentra una instrucción return o se llega al final del bloque de instrucciones definidas dentro de la función.\n",
        "\n",
        "Si en cualquier momento del bloque de código de la función el se encuentra la instrucción `return`, la ejecución de la función termina y el control vuelve al lugar **desde donde fué invocada**."
      ]
    },
    {
      "cell_type": "markdown",
      "metadata": {
        "id": "7xzyfxz5tH0f"
      },
      "source": [
        "<div class=\"alert alert-block alert-danger\">\n",
        "<b>IMPORTANTE:</b> Siempre se deben hacer las declaraciones de las funciones antes de ser <b>invocadas</b> para evitar errores en la ejecución. Es una <b>BUENA PRÁCTICA</b> hacer todas las declaraciones de las funciones al principio del programa.\n",
        "</div>"
      ]
    },
    {
      "cell_type": "markdown",
      "metadata": {
        "id": "nH9wHPOdtH0g"
      },
      "source": [
        "Ejemplo 2\n",
        "Veamos otro ejemplo, usando variables para pasar los valores a los parámetros de la función y recibir el valor del resultado."
      ]
    },
    {
      "cell_type": "code",
      "execution_count": null,
      "metadata": {
        "id": "8DUPqbwAtH0g"
      },
      "outputs": [],
      "source": [
        "def add(x,y):           ## Se define la función (lo hago una única vez)\n",
        "    suma = x+y          ## Código que ejecuta suma valores ingresados\n",
        "    resta= x-y         ## Código que ejecuta resta valores ingresados\n",
        "    return suma,resta  ## Valores de retorno. Se pueden devolver mas de un valor\n",
        "\n",
        "a = 1\n",
        "c,res = add( a+1 , 2 )  ## Puede usar una expresión como a+1 como parámetro de entrada\n",
        "                        # La expresión se calcula antes de invocar la función y la variable\n",
        "                        # 'x' es el parámetro que recibe el resultado de la suma,\n",
        "                        # El número 2 será almacenado en la variable 'y' que es el\n",
        "                        # parámetro que lo recibe.\n",
        "                        ## En este ejemplo, En el llamado de la función add:\n",
        "                        ## la variable c almacena el resultado de la suma de x y y\n",
        "                        ## la variable res almacena el resultado de la resta de x y y\n",
        "                        # devueltos por el return para usarlo después\n",
        "if c > 0 and res>0:\n",
        "    print(c)\n",
        "    print(res)\n"
      ]
    },
    {
      "cell_type": "markdown",
      "metadata": {
        "id": "AOBR1m9RtH0h"
      },
      "source": [
        "Si vamos a usar el valor del resultado de la función en más de una parte del código del programa, como en el ejemplo anterior, éste se debe guardar en una variable. El resultado es usado en la condición del if `c > 0 and res>0` y en el `print(c) print(res)`.<br></br>\n",
        "\n",
        " **Mala práctica**:\n",
        "\n",
        "```python\n",
        "## No hacer esto !!\n",
        "if add( a+1 , 2 ) > 0:              ## Primera invocación a la función\n",
        "    print( add( a+1, 2 ) )          ## Segunda invocación a la función\n",
        "```"
      ]
    },
    {
      "cell_type": "markdown",
      "metadata": {
        "id": "StL_8AurtH0i"
      },
      "source": [
        "## Más acerca de los parámetros\n",
        "\n",
        "### Funciones sin parámetros\n",
        "\n",
        "Las funciones no necesariamente tienen que tener parámetros de entrada.\n",
        "\n",
        "Ejemplo:\n",
        "\n",
        "`Generar una función que devuelva una letra minúscula del abecedario inglés al azar.`\n",
        "\n",
        "Esta podría ser una de las formas de resolverlo:"
      ]
    },
    {
      "cell_type": "code",
      "execution_count": null,
      "metadata": {
        "id": "Nmlg7no2tH0i"
      },
      "outputs": [],
      "source": [
        "from random import randint\n",
        "\n",
        "def random_char():  ## <- Sin parámetros\n",
        "    return chr(randint(ord('a'),ord('z')))      ##  Se pueden escribir funciones de una sola línea\n",
        "\n",
        "c = 0\n",
        "while c < 100:\n",
        "    print(random_char(),end='')\n",
        "    c += 1                ## Se invoca 100 veces a la función e imprime el resultado"
      ]
    },
    {
      "cell_type": "markdown",
      "metadata": {
        "id": "245f8a4YtH0i"
      },
      "source": [
        "## Los valores de retorno\n",
        "\n",
        "Todas las funciones en python retornan un valor. Incluso aquellas que no tengan un return.\n",
        "\n",
        "Ejemplo:\n",
        "\n",
        "```python\n",
        "def func():\n",
        "    a = 1\n",
        "\n",
        "```\n",
        "\n",
        "La función `func()` en su bloque de código no tiene la instrucción `return`. Esto porque en ella no se hace ningún cálculo que se vaya a usar posteriormente."
      ]
    },
    {
      "cell_type": "code",
      "execution_count": null,
      "metadata": {
        "id": "IjX-yTZ9tH0i"
      },
      "outputs": [],
      "source": [
        "def func():\n",
        "    a = 1\n",
        "\n",
        "print( func() )"
      ]
    },
    {
      "cell_type": "markdown",
      "metadata": {
        "id": "rwVmiz8ftH0j"
      },
      "source": [
        "El `print()`, que imprime el valor de retorno `None`, que es un tipo de dato. Entonces, siempre que no devuelva un valor en forma explícita con el return, Python termina agregando  `return None`  al final del código de la función:\n",
        "\n",
        "\n",
        "```python\n",
        "def func():\n",
        "    a = 1\n",
        "\n",
        "```\n",
        "\n",
        "Internamente se procesa como:\n",
        "\n",
        "```python\n",
        "def func():\n",
        "    a = 1\n",
        "    return None\n",
        "```"
      ]
    },
    {
      "cell_type": "markdown",
      "metadata": {
        "id": "4qU5MT2ItH0j"
      },
      "source": [
        "## El return en cualquier parte de la función\n",
        "\n",
        "La sentencia return en una función no necesariamente debe estar al final de la misma. Puede haber casos en los que ya se conoce el valor que se va a devolver y no necesario recorrer todo hasta el código de la función. Veamos la siguiente consigna:\n",
        "\n",
        "`Hacer una función para determinar si un número es primo o no`\n",
        "\n",
        "Al crear una función para determinar si un número es primo, se puede utilizar la sentencia return para devolver el resultado en el momento en que se confirme si el número es primo o no, sin necesidad de recorrer todo el bloque de código. Esta técnica es útil para optimizar el rendimiento de la función y evitar recorridos innecesarios.\n",
        "\n",
        "Una posible implementación podría ser:"
      ]
    },
    {
      "cell_type": "code",
      "execution_count": null,
      "metadata": {
        "id": "tpEKFvyetH0j"
      },
      "outputs": [],
      "source": [
        "def es_primo( n ):\n",
        "    if n < 2 :\n",
        "        return False        ## Si n < 2 ya sabemos que la función debe retornar Falso\n",
        "                            ## ya que, por definición, los números primos tienen que\n",
        "                            ## ser mayores a 1\n",
        "\n",
        "    if n%2 == 0:            ## Si el número sea par, el único par primo\n",
        "        return n==2         ## es el 2, el resto no son primos\n",
        "\n",
        "    p=3                     # Sigo por el siguiente posible primo, 3\n",
        "    while(n%p!=0):          # Sé que n >= 2. Pruebo valores de p hasta que\n",
        "                            # encuentro un divisor de n\n",
        "        p += 2              # Aumento de a dos, por que sólo evalúo los impares\n",
        "\n",
        "    return p==n             ## El primer caso que encuentro donde n sea divisible,\n",
        "                            # veo si p llegó hasta n (n es primo) o\n",
        "                            # p dividió a n en un número anterior (no primo)\n",
        "i = 0\n",
        "while i < 20:     ## Pruebo la función con un ciclo.\n",
        "    print(i,'es primo:', es_primo(i))\n",
        "    i += 1\n"
      ]
    },
    {
      "cell_type": "markdown",
      "metadata": {
        "id": "Eo07MZuVtH0j"
      },
      "source": [
        "## Uso de variables dentro de la función\n",
        "\n",
        "Dentro de las funciones podemos hacer uso de las variables de la misma manera que lo hacemos en el programa principal. Veamos el siguiente código:\n",
        "\n",
        "```python\n",
        "def func():\n",
        "    b = 0       # Variable creada dentro de la función\n",
        "    return b   \n",
        "\n",
        "## Programa principal\n",
        "a = 1\n",
        "c = a + func()\n",
        "\n",
        "```\n",
        "\n",
        "La variable `b` es creada dentro de la función `func()`. Esta variable no va a existir en memoria hasta que la función `func()` sea invocada.\n",
        "\n",
        "Cuando se invoca la función, se crea un espacio de memoria propio para la función, y es en este espacio donde se crea la variable \"b\" y se le asigna el valor 0.\n",
        "\n",
        "La variable \"b\" se utiliza para devolver el valor almacenado en ese momento mediante la instrucción `return`. Una vez que la ejecución de la función termina, se sale de ese espacio de memoria y no se puede acceder nuevamente a la variable \"b\".\n",
        "\n",
        "Por lo tanto, la única forma de utilizar el valor de \"b\" después de que la ejecución de la función \"func()\" ha terminado es devolviéndolo mediante la instrucción \"return\", tal como se hace en el ejemplo.\n",
        "\n",
        "El siguiente ejemplo muestra lo que **NO** se debe hacer con las variables de las funciones:\n",
        "\n",
        "```python\n",
        "def func():\n",
        "    b = 0       # Variable creada dentro de la función\n",
        "    return b   \n",
        "\n",
        "## MANERA INCORRECTA DE ACCEDER A VARIABLES DENTRO DE FUNCIONES\n",
        "a = 1\n",
        "func()      ## Invoco a la función pero no guardo el valor de retorno\n",
        "c = a + b   ## Trato de acceder a b, pero en este punto ya no existe más\n",
        "```\n",
        "\n",
        "Veamos este ERROR con un ejemplo:"
      ]
    },
    {
      "cell_type": "code",
      "execution_count": null,
      "metadata": {
        "id": "jzfTGreRtH0j"
      },
      "outputs": [],
      "source": [
        "def func():\n",
        "    b = 2\n",
        "    print(a,b,c)\n",
        "\n",
        "a = 1\n",
        "func()\n",
        "c = 3\n"
      ]
    },
    {
      "cell_type": "markdown",
      "metadata": {
        "id": "5c2__NgBtH0k"
      },
      "source": [
        "Si vemos el error, ¿Por qué les parece que identifica como error que `c` no está definida, si `a`, que está mencionada en el código antes que `c`, tampoco está definida dentro de la función?"
      ]
    },
    {
      "cell_type": "markdown",
      "metadata": {
        "id": "vXEGl25StH0k"
      },
      "source": [
        "### Scope de las variables\n",
        "\n",
        "Veamos el siguiente código:"
      ]
    },
    {
      "cell_type": "code",
      "execution_count": null,
      "metadata": {
        "colab": {
          "base_uri": "https://localhost:8080/"
        },
        "id": "NPyToIOUtH0k",
        "outputId": "02ca6afb-6fc0-4233-998d-fc8ac042ab05"
      },
      "outputs": [
        {
          "name": "stdout",
          "output_type": "stream",
          "text": [
            "en la función\n",
            "fuera de la función\n"
          ]
        }
      ],
      "source": [
        "def func():\n",
        "    donde_estoy = 'en la función'   ## Seteo el valor en donde_estoy\n",
        "    print(donde_estoy)\n",
        "    return\n",
        "\n",
        "#Programa principal o main\n",
        "donde_estoy = 'fuera de la función'  ## Seteo el valor en donde_estoy\n",
        "func()\n",
        "print(donde_estoy)"
      ]
    },
    {
      "cell_type": "markdown",
      "metadata": {
        "id": "6wpDdG1-tH0l"
      },
      "source": [
        "Revisen el código y piensen si tiene sentido el resultado y, ¿cuál creen que es la causa de ese comportamiento?"
      ]
    },
    {
      "cell_type": "markdown",
      "metadata": {
        "id": "t-lyL0nVtH0l"
      },
      "source": [
        "Todas las variables son definidas en un `contexto` o `scope`.\n",
        "\n",
        "Cuando comenzamos a escribir un programa, estamos trabajando en un contexto que se llama `global`. Todas las variables que se creen, van a ser creadas en ese contexto. Cada vez que invocamos a una función, se crea un contexto nuevo para todas las variables definidas en esa función, y ese contexto existe mientras la función se esté ejecutando. Al llegar a un `return` o al final del código de la función (`return implícito`), el contexto se destruye junto con todas las variables definidas en él, y es por eso que no podemos referenciar variables que estuvieron dentro de la función una vez que la función finalizó.\n",
        "\n",
        "Dentro de ese contexto, cada variable debe tener un nombre único, pero distintas variables pueden tener el mismo nombre si están definidas en distintos contextos.\n",
        "\n",
        "**SUPER IMPORTANTE:**\n",
        "\n",
        "**ESTÁ PROHIBIDO EL USO DE VARIABLE GLOBALES EN ESTA MATERIA AL USAR FUNCIONES...TODO DATO QUE SE NECESITE EN UNA FUNCIÓN DEBE INGRESAR POR LOS PARAMETROS**\n",
        "Veamos un código de ejemplo:\n",
        "\n",
        "```python\n",
        "def func( b ):\n",
        "    ## Paso 3\n",
        "    a = 1\n",
        "    b = 2\n",
        "    d = 8\n",
        "    ## Paso 4\n",
        "    print(a,b,c)\n",
        "    ## Paso 5\n",
        "    return\n",
        "## Paso 1, programa principal o main\n",
        "a = 3\n",
        "b = 4\n",
        "c = 5\n",
        "## Paso 2\n",
        "func( c+1 )\n",
        "## Paso 6\n",
        "print(a,b,c)\n",
        "```\n",
        "\n",
        "y vayamos siguiéndolo paso a paso:"
      ]
    },
    {
      "cell_type": "markdown",
      "metadata": {
        "id": "Uu_yBXVxtH0l"
      },
      "source": [
        "#### Paso 1\n",
        "\n",
        "```python\n",
        "## Paso 1\n",
        "a = 3\n",
        "b = 4\n",
        "c = 5\n",
        "```\n",
        "\n",
        "En el paso 1 comienza la ejecución del programa, lo hace en el contexto `Global`. En ese contexto se definen las tres valiables, `a`, `b` y `c`. Al finalizar la tabla de las variables quedan de la siguiente manera.\n",
        "\n",
        "| Contexto | Variable | Valor |\n",
        "|--------|---------|---------|\n",
        "| `Global` | `a` | `3` |\n",
        "| `Global` | `b` | `4` |\n",
        "| `Global` | `c` | `5` |"
      ]
    },
    {
      "cell_type": "markdown",
      "metadata": {
        "id": "RGNDUAR0tH0l"
      },
      "source": [
        "#### Paso 2\n",
        "\n",
        "```python\n",
        "## Paso 2\n",
        "func(c+1)\n",
        "```\n",
        "\n",
        "El el paso 2, al invocar a la función con el parámetro `c+1`, el intérprete evalúa las expresiones y calcula los valores, en este caso `5+1 -> 6`. Para almacenar el resultado, se analiza la definición de la variable `def func( b ):` y se crea el parámetro `b` dentro del contexto de la función.\n",
        "\n",
        "| Contexto | Variable | Valor |\n",
        "|--------|---------|---------|\n",
        "| Global | a | 3 |\n",
        "| Global | b | 4 |\n",
        "| Global | c | 5 |\n",
        "| |  |  |\n",
        "| `func` | `b` | `6` |\n"
      ]
    },
    {
      "cell_type": "markdown",
      "metadata": {
        "id": "aLrtFvrCtH0m"
      },
      "source": [
        "#### Paso 3\n",
        "\n",
        "```python\n",
        "## Paso 3\n",
        "    a = 1\n",
        "    b = 2\n",
        "    d = 8\n",
        "```\n",
        "\n",
        "En el paso 3 se definen dos nuevas variables, pero por estar dentro de la función, se encuentran en el contexto de ella: `func`. El parámetro `b`, que valía `6`, es reemplazado por un nuevo valor `2`.\n",
        "\n",
        "| Contexto | Variable | Valor |\n",
        "|--------|---------|---------|\n",
        "| Global | a | 3 |\n",
        "| Global | b | 4 |\n",
        "| Global | c | 5 |\n",
        "| |  |  |\n",
        "| func | b | `2` |\n",
        "| `func` | `a` | `1` |\n",
        "| `func` | `d` | `8` |"
      ]
    },
    {
      "cell_type": "markdown",
      "metadata": {
        "id": "JUtCpnv6tH0m"
      },
      "source": [
        "#### Paso 4\n",
        "\n",
        "```python\n",
        "## Paso 4\n",
        "    print(a,b,c)\n",
        "```\n",
        "\n",
        "En el paso 4 se deben imprimir los valores de `a`, `b` y `c`. El intérprete consulta la tabla de las variables, buscando siempre primero en el contexto de la función, `func`, y luego en el contexto `Global`. Entonces los valores que print imprimirá son:\n",
        "\n",
        "`1 2 5`\n",
        "\n",
        "El 1 de la variable `a` en el contexto `func`, el 2 de `b` del contexto `func` y por último el 5 de `c` del contexto `Global`."
      ]
    },
    {
      "cell_type": "markdown",
      "metadata": {
        "id": "zlGoCzsOtH0m"
      },
      "source": [
        "#### Paso 5\n",
        "\n",
        "```python\n",
        "    ## Paso 5\n",
        "    return\n",
        "```\n",
        "En el paso 5, al finalizar la función, después del `return`, se destruye el contexto de la función, `func`, y todas las variables ahí definidas:\n",
        "\n",
        "| Contexto | Variable | Valor |\n",
        "|--------|---------|---------|\n",
        "| Global | a | 3 |\n",
        "| Global | b | 4 |\n",
        "| Global | c | 5 |\n",
        "| |  |  |\n",
        "\n",
        "\n",
        "Por este motivo es que no podemos acceder a variables como `d`, ya que no existen más en la memoria.\n"
      ]
    },
    {
      "cell_type": "markdown",
      "metadata": {
        "id": "TIROPqZStH0m"
      },
      "source": [
        "#### Paso 6\n",
        "\n",
        "```python\n",
        "## Paso 6\n",
        "print(a,b,c)\n",
        "```\n",
        "\n",
        "En el paso 6 el print evalúa el valor de las variables nuevamente usando la tabla de variables del contexto `Global` y la salida será:\n",
        "\n",
        "| Contexto | Variable | Valor |\n",
        "|--------|---------|---------|\n",
        "| Global | a | 3 |\n",
        "| Global | b | 4 |\n",
        "| Global | c | 5 |\n",
        "\n",
        "`3 4 5`\n"
      ]
    },
    {
      "cell_type": "markdown",
      "metadata": {
        "id": "JG3w6bcdtH0m"
      },
      "source": [
        "## Retornando múltiples valores\n",
        "\n",
        "Las funciones, por defecto, retornan un único valor pero se pueden devolver múltiples valores separándolos con una coma.\n"
      ]
    },
    {
      "cell_type": "code",
      "execution_count": null,
      "metadata": {
        "id": "dw5o36NgtH0m"
      },
      "outputs": [],
      "source": [
        "def f():\n",
        "    return 1,2,3\n",
        "\n",
        "a, b , c = f()\n",
        "print(a,b,c)"
      ]
    },
    {
      "cell_type": "markdown",
      "metadata": {
        "id": "kNOKWFXltH0n"
      },
      "source": [
        "Es obligatorio usar la misma cantidad de variales a la izquierda del igual (`a, b y c` en el ejemplo) que los que ponemos en el `return` (`1, 2 y 3`). Con esta restricción, no se puede usar esta funcionalidad si no sabemos de antemano cúantos valores van a ser retornados. Veamos otro ejemplo.\n",
        "\n",
        "`Solicitar al usuario la medida del lado de un cuadrado y calcular su superficie y área`"
      ]
    },
    {
      "cell_type": "code",
      "execution_count": null,
      "metadata": {
        "id": "zW89VSSmtH0n"
      },
      "outputs": [],
      "source": [
        "def prop_cuadrado( l ):\n",
        "    p = l * 4\n",
        "    s = l * l\n",
        "    return p , s\n",
        "\n",
        "lado = float(input('Ingrese la medida del lado: '))\n",
        "per , sup = prop_cuadrado( lado )\n",
        "print('Perímetro:',per,'Superficie:',sup)"
      ]
    },
    {
      "cell_type": "markdown",
      "metadata": {
        "id": "ckvarg7LtH0n"
      },
      "source": [
        "Veamos algunos ejemplos de errores si no se usa la misma cantidad de variables que de valores."
      ]
    },
    {
      "cell_type": "code",
      "execution_count": null,
      "metadata": {
        "id": "Qk44UbTltH0n"
      },
      "outputs": [],
      "source": [
        "def f():\n",
        "    return 1,2,3    ## Sobra un valor\n",
        "\n",
        "a, b  = f()         ## O falta una variable\n",
        "print(a,b,c)"
      ]
    },
    {
      "cell_type": "code",
      "execution_count": null,
      "metadata": {
        "id": "ukL7ydpbtH0n"
      },
      "outputs": [],
      "source": [
        "def f():\n",
        "    return 1,2      ## Falta un valor\n",
        "\n",
        "a, b, c  = f()      ## O sobra una variable\n",
        "print(a,b,c)"
      ]
    },
    {
      "cell_type": "markdown",
      "metadata": {
        "id": "mlEXDbSctH0o"
      },
      "source": [
        "## Buenas prácticas"
      ]
    },
    {
      "cell_type": "markdown",
      "metadata": {
        "id": "rD4mNALhtH0o"
      },
      "source": [
        "### Nombre de las variables\n",
        "\n",
        "<div class=\"alert alert-block alert-success\">\n",
        "Es buena práctica usar nombres distintos para las variables definidas dentro de las funciones, a fin de que no se confundan con las variables del contexto global.\n",
        "</div>"
      ]
    },
    {
      "cell_type": "markdown",
      "metadata": {
        "id": "BC01gSXstH0o"
      },
      "source": [
        "### No acceder a variables del contexto global\n",
        "\n",
        "<div class=\"alert alert-block alert-danger\">\n",
        "<b>Nunca</b> se debe acceder o modificar variables del contexto <b>Global</b> dentro de las funciones. Hacer esto limita la posibilidad de reusar esa función dentro de otros programas. Si la función necesita un valor del contexto global, lo debe recibir por medio de un parámetro.\n",
        "</div>"
      ]
    },
    {
      "cell_type": "markdown",
      "metadata": {
        "id": "IFOoiuT5tH0o"
      },
      "source": [
        "Ejemplo de una mala práctica:"
      ]
    },
    {
      "cell_type": "code",
      "execution_count": null,
      "metadata": {
        "id": "MizNYRxltH0o"
      },
      "outputs": [],
      "source": [
        "def calc_sup1():\n",
        "    return lado1 * lado2            ## Si en el momento de invocar a la función no están definidos\n",
        "                                    ## lado1 o lado2, falla la ejecución\n",
        "\n",
        "lado1 = float(input('Ingrese lado 1: '))\n",
        "lado2 = float(input('Ingrese lado 2: '))\n",
        "sup = calc_sup1()\n",
        "print('La superficie es', sup)"
      ]
    },
    {
      "cell_type": "markdown",
      "metadata": {
        "id": "WUFL0mistH0p"
      },
      "source": [
        "La forma correcta de hacerlo:"
      ]
    },
    {
      "cell_type": "code",
      "execution_count": null,
      "metadata": {
        "id": "ljR5O5xFtH0p"
      },
      "outputs": [],
      "source": [
        "def calc_sup2( l1 , l2 ):       ## ARGUMENTOS l1 y l2 !!\n",
        "    return l1 * l2              ## Siempre va a funcionar y no depende de saber nada del programa\n",
        "                                ## que va a invocar a la función.\n",
        "\n",
        "lado1 = float(input('Ingrese lado 1: '))\n",
        "lado2 = float(input('Ingrese lado 2: '))\n",
        "sup = calc_sup2( lado1 , lado2 )  ## Datos pasados por parámetros\n",
        "print('La superficie es', sup)"
      ]
    },
    {
      "cell_type": "markdown",
      "metadata": {
        "id": "xUws-mnWtH0p"
      },
      "source": [
        "### Dividir y conquistar\n",
        "\n",
        "Si se tiene la siguiente consigna:\n",
        "\n",
        "`Escriba un programa que pida dos números primos y determine si la suma de los mismos es también un número primo`\n",
        "\n",
        "Vamos a ver algunas opciones de cómo se podría resolver este ejercicio con funciones:"
      ]
    },
    {
      "cell_type": "markdown",
      "metadata": {
        "id": "xpiwbDajtH0p"
      },
      "source": [
        "#### Opción 1\n",
        "\n",
        "Podemos crear una gran función que resuelva todo el problema:\n",
        "\n",
        "```python\n",
        "\n",
        "def pedirDosNumerosPrimosYDevolverSiLaSumaEsUnNumeroPrimo():\n",
        "    ## CODIGO\n",
        "    return  #True si es primo, False sino\n",
        "\n",
        "if pedirDosNumerosPrimosYDevolverSiLaSumaEsUnNumeroPrimo():\n",
        "    print('Es primo')\n",
        "```\n",
        "\n",
        "Claramente, esta función sólo sirve para resolver este problema. Es poco probable que vayamos a necesitarla en algún otro caso. La función resuelve muchos problemas al mismo tiempo y por eso se hace menos probable que podamos reusarla.\n",
        "\n",
        "Siempre hay que tratar de descomponer los problemas en partes y atacar cada parte por separado. Tratemos de identificar qué problemas podríamos atacar por separado.\n",
        "\n",
        "1. Hay que ingresar dos números primos: Los números deben ser positivos y deben ser primos\n",
        "1. Hay que validar si la suma es un número primo\n",
        "\n",
        "El primer punto los podemos descomponer en más partes\n",
        "\n",
        "1. Hay que ingresar dos números primos: Los números deben ser positivos y deben ser primos\n",
        "    1. Pedir un número hasta que sea un entero positivo\n",
        "    1. Validar que el número sea primo\n",
        "    1. Pedir otro valor hasta que sea un entero positivo\n",
        "    1. Validar que el número sea primo\n",
        "1. Hay que validar si la suma es un número primo\n",
        "    1. Hacer la suma de dos números\n",
        "    1. Validar que el número sea primo\n",
        "\n",
        "Comenzamos a ver que hay tareas que se repiten, y `si no se usan funciones`, requerirían copiar el código en varios lugares. Entonces estas tareas se presentan como candidatas para ser resueltas por funciones pequeñas y bien específicas.\n",
        "\n",
        "Veamos otra opción para resolver este problema `usando funciones`:"
      ]
    },
    {
      "cell_type": "markdown",
      "metadata": {
        "id": "vLUIB5pAtH0p"
      },
      "source": [
        "#### Opción 2\n",
        "\n",
        "Aplicando el concepto de dividir y conquistar."
      ]
    },
    {
      "cell_type": "code",
      "execution_count": null,
      "metadata": {
        "id": "moZupg4mtH0p"
      },
      "outputs": [],
      "source": [
        "def es_primo( n ): # n en el número que quiero validar\n",
        "    '''\n",
        "    Valida si el número n es primo.\n",
        "    n:                  Número a validar\n",
        "    Retorna (bool):     True si es primo. False, si no lo es.\n",
        "    '''\n",
        "    if n < 2 :\n",
        "        return False\n",
        "    if n%2 == 0:\n",
        "        return n==2\n",
        "    p=3\n",
        "    while(n%p!=0):\n",
        "        p += 2\n",
        "    return p==n\n",
        "\n",
        "def input_int_gt( prompt , limite ): # Solicita un número hasta que sea mayor al límite\n",
        "    '''\n",
        "    Esta función solicita un ingreso de un número y valida que sea mayor a un valor\n",
        "    limite (int):   Valor mínimo permitido menos uno. Ej: si límite es 1, sólo se permiten\n",
        "                    valores mayores a 1.\n",
        "    prompt (str):   Texto para que muestre el input\n",
        "    retorna (int):  Número ingresado\n",
        "    '''\n",
        "    n = limite-1\n",
        "    while n < limite:\n",
        "        n = int(input(prompt))\n",
        "    return n\n",
        "\n",
        "def input_primo( prompt ):\n",
        "    '''\n",
        "    Esta función solicita al usuario un ingreso de un número y valida que sea primo\n",
        "    '''\n",
        "    n = 1\n",
        "    while(not es_primo( n )):   ## Reuso una función adentro de otra función\n",
        "        n = input_int_gt(prompt ,1)\n",
        "\n",
        "    return n\n",
        "\n",
        "## CODIGO PRINCIPAL\n",
        "\n",
        "PROMPT = 'Ingrese un número primo: '\n",
        "\n",
        "if(es_primo(input_primo( PROMPT ) + input_primo( PROMPT ))):\n",
        "    print('La suma es un número primo.')\n",
        "else:\n",
        "    print('La suma NO es un número primo.')"
      ]
    },
    {
      "cell_type": "markdown",
      "metadata": {
        "id": "uJQif5g7tH0q"
      },
      "source": [
        "En este código vemos que cada función tiene una tarea específica y bien definida:\n",
        "* `es_primo`: determina si un número `n` es primo\n",
        "* `input_int_gt`: solicita un ingreso y valida que sea mayor a un valor `límite`. `prompt` permite reusar la función en muchos programas.\n",
        "* `input_primo`: solicita un ingreso y valida que sea primo **reusando** la función `es_primo()` e `input_int_gt()`.\n",
        "\n",
        "El código principal, por su lado, realiza la tarea específica para esta consigna y también reusa la función `es_primo()`."
      ]
    },
    {
      "cell_type": "markdown",
      "metadata": {
        "id": "kc4rKrWBtH0q"
      },
      "source": [
        "Habiendo visto este ejemplo podemos repasar el concepto de `DIVIDIR` y `CONQUISTAR`:\n",
        "* `DIVIDIR`: Buscar problemas elementales que puedan resolverse con pocas líneas de código\n",
        "* `CONQUISTAR`: Resolver esos problemas con pocas líneas de código\n"
      ]
    },
    {
      "cell_type": "markdown",
      "metadata": {
        "id": "erpaoCEjtH0q"
      },
      "source": [
        "<div class=\"alert alert-block alert-success\">\n",
        "<b>DIVIDIR Y CONQUISTAR</b> es una de las mejores prácticas en programación que permite hacer un buen diseño y simplifica el proceso de resolución de problemas complejos.\n",
        "</div>"
      ]
    },
    {
      "cell_type": "markdown",
      "metadata": {
        "id": "4a0kfM8LtH0q"
      },
      "source": [
        "#### Reusabilidad\n",
        "\n",
        "En el ejemplo anterior había varios casos de reusabilidad. Poder usar una función dentro de otras funciones o en programas distintos es lo que se define como reusabilidad de una función.\n",
        "\n",
        "Todas las funciones que Python trae incluidas o estás disponibles en módulos fueron diseñadas para asegurar su reusabilidad."
      ]
    },
    {
      "cell_type": "markdown",
      "metadata": {
        "id": "Dn_VF3VWtH0q"
      },
      "source": [
        "### Resumen de mejores prácticas\n",
        "\n",
        "* `GENÉRICAS`: El diseño de las funciones debe resolver el problema de la manera más **genérica** posible. Siempre pensar distintos contextos en los que esa función podría ser útil y cubrir la mayor cantidad de usos posibles. Ejemplo: si hubiéramos puesto un prompt fijo para input en el programa anterior, `input_int_gt` sólo habría servido para ese ejemplo. Al poner un argumento `prompt`, que es definido por quien invoca la función, permite usarla para cualquier caso.\n",
        "* `AUTÓNOMAS`: No deben depender de ninguna variable global o definición específica del ambiente en que se usa la función. Deben poder ser usadas en cualquier programa, recibiendo todos los datos a través de sus parámetros y devolviendo datos mediante valores de retorno.\n",
        "* `ESPECÍFICAS`: Se denomica `COHESIÓN` a la capacidad de una función de hacer sólo la tarea que se espera de ella. Se considera que una función tiene **Alta cohesión** cuando es corta y específica. La función que vimos en la *Opción 1* tenía muy *BAJA COHESIÓN* realizaba muchas tareas y era difícil definir cuál era su tarea. La función `es_primo` es bien específica y sólo hace una tarea, favoreciendo que sea claro para qué sirve y cuándo reusarla.\n",
        "* `DEFINICIÓN CLARA`: Las funciones no deben tener argumentos de más. Deben devolver los tipos de datos que son lógicos para lo que se espera que hagan. Ejemplo: si la función valida algo, esperamos que devuelva un `bool`.\n",
        "* `DOCUMENTACIÓN CLARA`: En el ejemplo vimos cómo se puede documentar una función, usando `'''` triple comilla, y cómo el Visual Code muestra la documentación de las funciones que creamos, aclarando cómo se usan y qué podemos esperar de ellas."
      ]
    },
    {
      "cell_type": "markdown",
      "metadata": {
        "id": "U62OmsjLzBmg"
      },
      "source": [
        "----"
      ]
    }
  ],
  "metadata": {
    "colab": {
      "provenance": []
    },
    "kernelspec": {
      "display_name": "Python 3.8.2 64-bit",
      "language": "python",
      "name": "python3"
    },
    "language_info": {
      "codemirror_mode": {
        "name": "ipython",
        "version": 3
      },
      "file_extension": ".py",
      "mimetype": "text/x-python",
      "name": "python",
      "nbconvert_exporter": "python",
      "pygments_lexer": "ipython3",
      "version": "3.10.11"
    },
    "orig_nbformat": 4,
    "vscode": {
      "interpreter": {
        "hash": "5edc29c2ed010d6458d71a83433b383a96a8cbd3efe8531bc90c4b8a5b8bcec9"
      }
    }
  },
  "nbformat": 4,
  "nbformat_minor": 0
}
