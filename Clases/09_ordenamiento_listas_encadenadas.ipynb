{
  "cells": [
    {
      "cell_type": "markdown",
      "metadata": {
        "id": "mJHmagv5xdXT"
      },
      "source": [
        "# Ordenar Listas\n",
        "\n",
        "## Proceso de ordenamiento\n",
        "\n",
        "Una de las operaciones más útiles en la computación es el de ordenar una lista de valores en base a algún criterio. Veremos el proceso de ordenar una lista  menor a mayor.\n",
        "\n",
        "Existen difentes algoritmos de ordenamiento, pero el más usado en la comunidad educativa por ser el más simple se llama Ordenamiento por Burbujeo.\n",
        "\n",
        "El algoritmo funciona de la siguiente manera:\n",
        "* En la primera recorrida de la lista, vamos llevando el elemento más grande (o más chico) hacia el final de la lista.\n",
        "* En la siguente recorrida, hacemos lo mismo, pero en vez de llegar al final, terminamos en una posición anterior a la que terminamos la recorrida anterior.\n",
        "\n",
        "Progresivamente, se va ordenando de atrás hacia adelante. Vemos el siguiente ejemplo:\n",
        "\n",
        "```\n",
        "v---v\n",
        "6 | 2 | 4 | 3 | 1 | 5       Intercambio valores\n",
        "    v---v\n",
        "2 | 6 | 4 | 3 | 1 | 5       Intercambio valores\n",
        "        v---v\n",
        "2 | 4 | 6 | 3 | 1 | 5       Intercambio valores\n",
        "            v---v\n",
        "2 | 4 | 3 | 6 | 1 | 5       Intercambio valores\n",
        "                v---v\n",
        "2 | 4 | 3 | 1 | 6 | 5       Intercambio valores\n",
        "v---v             \n",
        "2 | 4 | 3 | 1 | 5 | 6       Sin cambios\n",
        "    v---v\n",
        "2 | 4 | 3 | 1 | 5 | 6       Intercambio valores\n",
        "        v---v\n",
        "2 | 3 | 4 | 1 | 5 | 6       Intercambio valores\n",
        "            v---v\n",
        "2 | 3 | 1 | 4 | 5 | 6       Sin cambios\n",
        "v---v\n",
        "2 | 3 | 1 | 4 | 5 | 6       Sin cambios\n",
        "    v---v\n",
        "2 | 3 | 1 | 4 | 5 | 6       Intercambio valores\n",
        "        v---v\n",
        "2 | 1 | 3 | 4 | 5 | 6       Sin cambios\n",
        "v---v\n",
        "2 | 1 | 3 | 4 | 5 | 6       Intercambio valores\n",
        "    v---v\n",
        "1 | 2 | 3 | 4 | 5 | 6       Sin cambios\n",
        "v---v\n",
        "1 | 2 | 3 | 4 | 5 | 6       Sin cambios\n",
        "\n",
        "```\n",
        "\n",
        "La lista queda entonces ordenada. Veamos entonces como podemos programar este algoritmo."
      ]
    },
    {
      "cell_type": "code",
      "execution_count": null,
      "metadata": {
        "id": "9ZJeGRu_xdXX"
      },
      "outputs": [],
      "source": [
        "def ordenar_asc( lista ):\n",
        "    ln = len(lista)\n",
        "    for i in range(ln):   # Recorre hasta el último\n",
        "        for j in range(ln-i-1):\n",
        "            if( lista[j]>lista[j+1] ):\n",
        "                aux = lista[j]       # Intercambio de posiciones\n",
        "                lista[j] = lista[j+1]\n",
        "                lista[j+1] = aux\n",
        "    return lista"
      ]
    },
    {
      "cell_type": "code",
      "execution_count": null,
      "metadata": {
        "id": "CBkcqBBAxdXY",
        "outputId": "d68266b6-b6d6-49a4-d1bf-937106cd7d31",
        "colab": {
          "base_uri": "https://localhost:8080/"
        }
      },
      "outputs": [
        {
          "output_type": "execute_result",
          "data": {
            "text/plain": [
              "[1, 2, 3, 4, 5, 6]"
            ]
          },
          "metadata": {},
          "execution_count": 2
        }
      ],
      "source": [
        "ordenar_asc( [6,2,4,3,1,5] )"
      ]
    },
    {
      "cell_type": "markdown",
      "metadata": {
        "id": "mm_v6hOQxdXg"
      },
      "source": [
        "### Manejo de varias listas simultaneamente\n",
        "\n",
        "A veces, necesitamos procesar información almacenada en varias listas que están relacionadas entre sí\n",
        "\n",
        "Cuando trabajamos con varias listas de información relacionada, es importante que estén ordenadas de manera consistente.\n",
        "\n",
        "Estas listas deben estar ordenadas de tal forma que el primer elmento de la primera lista corresponda el primer elemento de la segunda lista y asi sucesivamente.\n",
        "\n",
        "Por ejemplo, si tenemos tres listas que contienen los nombres de los estudiantes, sus legajos y sus notas, es importante que la información de cada estudiante esté en la misma posición en cada lista para que podamos relacionarla correctamente.\n",
        "\n",
        "```\n",
        "lista_estudiantes=['Alvaro Garcia','Pedro Hernandez','Juana Almagro']\n",
        "lista_legajos[5654,5574,5687]\n",
        "lista_notas=[8.5,4,9]\n",
        "```\n",
        "```\n",
        "Alvaro Garcia esta ubicado en la lista_estudiantes[0]\n",
        "5654 El legajo de Alvaro Garcia está ubicado en la lista_legajos[0]\n",
        "8.5 Nota de la cursada de Alvaro Garcia está ubicada en la lista_notas[0]\n",
        "\n",
        "```\n",
        "\n",
        "`Si se pide mostrar el nombre y legajo del estudiante con mejor nota cursada,\n",
        "debera mostrar por pantalla:\n",
        "\n",
        "Juana Almagro de legajo 5687, obtuvo la mejor nota cursada\n",
        "`\n"
      ]
    },
    {
      "cell_type": "code",
      "execution_count": null,
      "metadata": {
        "id": "qFzmxVwOxdXh",
        "outputId": "d6435185-7a3b-4c06-f436-3e183b0b7768",
        "colab": {
          "base_uri": "https://localhost:8080/",
          "height": 211
        }
      },
      "outputs": [
        {
          "output_type": "error",
          "ename": "NameError",
          "evalue": "name 'datos' is not defined",
          "traceback": [
            "\u001b[0;31m---------------------------------------------------------------------------\u001b[0m",
            "\u001b[0;31mNameError\u001b[0m                                 Traceback (most recent call last)",
            "\u001b[0;32m<ipython-input-1-2dc9e4832182>\u001b[0m in \u001b[0;36m<cell line: 25>\u001b[0;34m()\u001b[0m\n\u001b[1;32m     23\u001b[0m     \u001b[0;32mreturn\u001b[0m \u001b[0;32mNone\u001b[0m\u001b[0;34m\u001b[0m\u001b[0;34m\u001b[0m\u001b[0m\n\u001b[1;32m     24\u001b[0m \u001b[0;34m\u001b[0m\u001b[0m\n\u001b[0;32m---> 25\u001b[0;31m \u001b[0mprint\u001b[0m\u001b[0;34m(\u001b[0m \u001b[0;34m'Edad:'\u001b[0m\u001b[0;34m,\u001b[0m \u001b[0mprom_ape_corto\u001b[0m\u001b[0;34m(\u001b[0m\u001b[0mdatos\u001b[0m\u001b[0;34m,\u001b[0m \u001b[0;34m'Edad'\u001b[0m\u001b[0;34m,\u001b[0m \u001b[0;34m'Apellido'\u001b[0m\u001b[0;34m,\u001b[0m \u001b[0;36m6\u001b[0m \u001b[0;34m)\u001b[0m \u001b[0;34m)\u001b[0m\u001b[0;34m\u001b[0m\u001b[0;34m\u001b[0m\u001b[0m\n\u001b[0m\u001b[1;32m     26\u001b[0m \u001b[0mprint\u001b[0m\u001b[0;34m(\u001b[0m \u001b[0;34m'Edad (Apellido menor a 3):'\u001b[0m\u001b[0;34m,\u001b[0m \u001b[0mprom_ape_corto\u001b[0m\u001b[0;34m(\u001b[0m\u001b[0mdatos\u001b[0m\u001b[0;34m,\u001b[0m \u001b[0;34m'Edad'\u001b[0m\u001b[0;34m,\u001b[0m \u001b[0;34m'Apellido'\u001b[0m\u001b[0;34m,\u001b[0m \u001b[0;36m3\u001b[0m \u001b[0;34m)\u001b[0m \u001b[0;34m)\u001b[0m\u001b[0;34m\u001b[0m\u001b[0;34m\u001b[0m\u001b[0m\n\u001b[1;32m     27\u001b[0m \u001b[0mprint\u001b[0m\u001b[0;34m(\u001b[0m \u001b[0;34m'Nacionalidad:'\u001b[0m\u001b[0;34m,\u001b[0m \u001b[0mprom_ape_corto\u001b[0m\u001b[0;34m(\u001b[0m\u001b[0mdatos\u001b[0m\u001b[0;34m,\u001b[0m \u001b[0;34m'Nacionalidad'\u001b[0m\u001b[0;34m,\u001b[0m \u001b[0;34m'Apellido'\u001b[0m\u001b[0;34m,\u001b[0m \u001b[0;36m6\u001b[0m \u001b[0;34m)\u001b[0m \u001b[0;34m)\u001b[0m\u001b[0;34m\u001b[0m\u001b[0;34m\u001b[0m\u001b[0m\n",
            "\u001b[0;31mNameError\u001b[0m: name 'datos' is not defined"
          ]
        }
      ],
      "source": [
        "def prom_ape_corto( datos, nom_prom , nom_ape , val_limite ):\n",
        "\n",
        "    ## Determino la columna en donde está el apellido\n",
        "    col_ape = buscar_columna( datos , nom_ape )\n",
        "    if col_ape == -1:\n",
        "        return None\n",
        "\n",
        "    ## Determino la columna en donde debo calcular promedio\n",
        "    col_prom = buscar_columna( datos , nom_prom )\n",
        "    if col_prom == -1:\n",
        "        return None\n",
        "\n",
        "    sum_prom = 0\n",
        "    cnt_prom = 0\n",
        "    for i in range(1,len(datos)):\n",
        "        if len(datos[i][col_ape])<= val_limite:\n",
        "            sum_prom += datos[i][col_prom]\n",
        "            cnt_prom += 1\n",
        "\n",
        "    if(cnt_prom>0):\n",
        "        return sum_prom/cnt_prom\n",
        "\n",
        "    return None\n",
        "\n",
        "print( 'Edad:', prom_ape_corto(datos, 'Edad', 'Apellido', 6 ) )\n",
        "print( 'Edad (Apellido menor a 3):', prom_ape_corto(datos, 'Edad', 'Apellido', 3 ) )\n",
        "print( 'Nacionalidad:', prom_ape_corto(datos, 'Nacionalidad', 'Apellido', 6 ) )\n",
        "print( 'Nacionalidad:', prom_ape_corto(datos, 'Edad', 'Nacionalidad', 6 ) )"
      ]
    },
    {
      "cell_type": "markdown",
      "metadata": {
        "id": "9RY7r2cXxdXh"
      },
      "source": [
        "### Filtrado por una lista\n",
        "\n",
        "\n",
        "En algunos casos, es preciso filtrar la información de las listas para obtener lo que se necesita\n",
        "\n",
        " Por ejemplo:\n",
        "\n",
        " **mostrar el nombre y legajo estudiante con mejor nota cursada**\n"
      ]
    },
    {
      "cell_type": "code",
      "execution_count": null,
      "metadata": {
        "id": "EbG6PaHgxdXh",
        "outputId": "da65d754-746b-4572-f106-313c977308b9",
        "colab": {
          "base_uri": "https://localhost:8080/"
        }
      },
      "outputs": [
        {
          "output_type": "stream",
          "name": "stdout",
          "text": [
            "El mejor estudiante fue Juana Alamgro  y su legajo es 5687\n"
          ]
        }
      ],
      "source": [
        "def mejor_estudiante( listado_nombres, listado_legajos ,notas ):\n",
        "    mejor_nota=notas[0]    ## inicializa la mayor nota con la ubicada en la lista de notas en la posicion 0\n",
        "    mejor_estudiante=0   ## Variable donde se almacenara la posicion del mejor estudiante segun su cursada\n",
        "\n",
        "    for i in range(1,len(notas)):\n",
        "        if notas[i]>mejor_nota:\n",
        "          mejor_nota=notas[i]\n",
        "          mejor_estudiante=i\n",
        "\n",
        "    return mejor_estudiante\n",
        "\n",
        "lista_estudiantes=['Alvaro Garcia','Pedro Hernandez','Juana Alamgro']\n",
        "lista_legajos=[5654,5574,5687]\n",
        "lista_notas=[8.5,4,9]\n",
        "\n",
        "primerEst=mejor_estudiante(lista_estudiantes,lista_legajos,lista_notas)\n",
        "print('El mejor estudiante fue', lista_estudiantes[primerEst], ' y su legajo es',lista_legajos[primerEst])\n"
      ]
    },
    {
      "cell_type": "markdown",
      "metadata": {
        "id": "jN837PPjxdXh"
      },
      "source": [
        "### Ordenamiento de las listas simultaneamente\n",
        "\n",
        "Permite organizar la informacion de las listas segun un criterio manteniendo la consistencia de la informacion.\n",
        "\n",
        "**Mostrar el nombre de los estudiantes ordenamos de mayor a menor según la nota de la cursada**\n"
      ]
    },
    {
      "cell_type": "code",
      "execution_count": null,
      "metadata": {
        "id": "4cRPFFkxxdXh",
        "outputId": "848a3701-004d-4a0b-bd63-e07b471cf464",
        "colab": {
          "base_uri": "https://localhost:8080/"
        }
      },
      "outputs": [
        {
          "output_type": "stream",
          "name": "stdout",
          "text": [
            "Los estudiantes con mejores notas cursadas de mayor a menor son :\n",
            "Juana Alamgro Alvaro Garcia Pedro Hernandez "
          ]
        }
      ],
      "source": [
        "def ordenarXnotas( listado_nombres, listado_legajos ,notas ):\n",
        "    ## Debe ordenar las notas de mayor a menor en la lista notas\n",
        "    ## Simultaneamente debe ir haciendo los mismos cambios en las otras listas\n",
        "    ## para mantener la consistencia de la informacion\n",
        "\n",
        "    ln = len(notas)\n",
        "    for i in range(ln):   # Recorre hasta el último\n",
        "        for j in range(i+1,ln):\n",
        "            if( notas[j]>notas[i] ):\n",
        "                notas[j],notas[i]=notas[i],notas[j]   # Intercambio de posiciones\n",
        "                listado_nombres[j],listado_nombres[i] = listado_nombres[i],listado_nombres[j] # Intercambio de posiciones\n",
        "                listado_legajos[j],listado_legajos[i] = listado_legajos[i],listado_legajos[j] # Intercambio de posiciones\n",
        "\n",
        "def mostrarDatos(lista,mensaje):\n",
        "  print(mensaje)\n",
        "  for nombre in lista:\n",
        "    print(nombre, end=' ')\n",
        "\n",
        "lista_estudiantes=['Alvaro Garcia','Pedro Hernandez','Juana Alamgro']\n",
        "lista_legajos=[5654,5574,5687]\n",
        "lista_notas=[8.5,4,9]\n",
        "ordenarXnotas(lista_estudiantes,lista_legajos,lista_notas)\n",
        "mensaje='Los estudiantes con mejores notas cursadas de mayor a menor son :'\n",
        "mostrarDatos(lista_estudiantes,mensaje)\n",
        "\n"
      ]
    }
  ],
  "metadata": {
    "kernelspec": {
      "display_name": "Python 3.8.2 64-bit",
      "language": "python",
      "name": "python3"
    },
    "language_info": {
      "codemirror_mode": {
        "name": "ipython",
        "version": 3
      },
      "file_extension": ".py",
      "mimetype": "text/x-python",
      "name": "python",
      "nbconvert_exporter": "python",
      "pygments_lexer": "ipython3",
      "version": "3.8.2"
    },
    "orig_nbformat": 4,
    "vscode": {
      "interpreter": {
        "hash": "5edc29c2ed010d6458d71a83433b383a96a8cbd3efe8531bc90c4b8a5b8bcec9"
      }
    },
    "colab": {
      "provenance": [],
      "collapsed_sections": [
        "mm_v6hOQxdXg"
      ]
    }
  },
  "nbformat": 4,
  "nbformat_minor": 0
}